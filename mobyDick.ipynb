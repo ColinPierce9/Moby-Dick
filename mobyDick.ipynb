{
 "cells": [
  {
   "cell_type": "markdown",
   "metadata": {},
   "source": [
    "# Moby Dick Text Analysis\n",
    "What are the most commonly used words in the novel Moby Dick by Herman Mellville? \n",
    "\n",
    "Not only is it a great book, it's also an excellent choice for this analysis due to its length, varied vocabulary, and availability for free on Project Gutenberg. \n",
    "\n",
    "For this notebook, I'll scrape the contents of the novel from Project Gutenberg, extract all words using the Natural Language Toolkit, and clean the word list to properly analyze and solve our question. \n",
    "\n",
    "First, I'll load the libraries needed for the project:"
   ]
  },
  {
   "cell_type": "code",
   "execution_count": 55,
   "metadata": {},
   "outputs": [],
   "source": [
    "import pandas as pd\n",
    "import numpy as np\n",
    "#import matplotlib.pyplot as plt\n",
    "import seaborn as sns\n",
    "sns.set_style('whitegrid')\n",
    "import urllib\n",
    "import requests\n",
    "from bs4 import BeautifulSoup\n",
    "import nltk\n",
    "from collections import Counter"
   ]
  },
  {
   "cell_type": "markdown",
   "metadata": {},
   "source": [
    "To get the text from Project Gutenberg, I'll use Requests and Beautiful Soup. This will scrape the html on the site and convert into text that I can use. "
   ]
  },
  {
   "cell_type": "code",
   "execution_count": 56,
   "metadata": {},
   "outputs": [],
   "source": [
    "url = 'http://www.gutenberg.org/files/2701/2701-0.txt'\n",
    "r = requests.get(url)\n",
    "soup = BeautifulSoup(r.text,'html5lib')\n",
    "text = soup.get_text()"
   ]
  },
  {
   "cell_type": "markdown",
   "metadata": {},
   "source": [
    "Now that I have a string of the full text of Moby Dick, I need to separate each word into an item in a list. This is how I'll eventually count each unique word. I'll use the Natural Language Toolkit Tokenize package to easily do this. "
   ]
  },
  {
   "cell_type": "code",
   "execution_count": 59,
   "metadata": {},
   "outputs": [],
   "source": [
    "tokenizer = nltk.tokenize.RegexpTokenizer('\\w+')\n",
    "tokens = tokenizer.tokenize(text)"
   ]
  },
  {
   "cell_type": "markdown",
   "metadata": {},
   "source": [
    "Next, each word needs to be changed to lowercase so we don't count capitalized words differently than lowercased words."
   ]
  },
  {
   "cell_type": "code",
   "execution_count": 61,
   "metadata": {},
   "outputs": [],
   "source": [
    "words = []\n",
    "\n",
    "for i in tokens:\n",
    "    words.append(i.lower())"
   ]
  },
  {
   "cell_type": "markdown",
   "metadata": {},
   "source": [
    "I've also noticed that Project Gutenberg has added a long forward at the beginning of the file before the book starts. This will affect the proper count of the actual words used in Moby Dick. The forward will need to be removed, but first I need to find the position in the list where the book starts. \n",
    "\n",
    "Knowing that the first line of Moby Dick is: \"Call Me Ishmael\", we'll used the word 'ishmael' as a way to find the first word of the novel."
   ]
  },
  {
   "cell_type": "code",
   "execution_count": 62,
   "metadata": {},
   "outputs": [
    {
     "data": {
      "text/plain": [
       "4936"
      ]
     },
     "execution_count": 62,
     "metadata": {},
     "output_type": "execute_result"
    }
   ],
   "source": [
    "words.index('ishmael')"
   ]
  },
  {
   "cell_type": "code",
   "execution_count": 63,
   "metadata": {},
   "outputs": [
    {
     "data": {
      "text/plain": [
       "'chapter'"
      ]
     },
     "execution_count": 63,
     "metadata": {},
     "output_type": "execute_result"
    }
   ],
   "source": [
    "words[4931]"
   ]
  },
  {
   "cell_type": "markdown",
   "metadata": {},
   "source": [
    "Position 4931 is the first word of the book. I'll remove all text before this first chapter."
   ]
  },
  {
   "cell_type": "code",
   "execution_count": 64,
   "metadata": {},
   "outputs": [],
   "source": [
    "book_words = words[4931:]"
   ]
  },
  {
   "cell_type": "markdown",
   "metadata": {},
   "source": [
    "Next I'll need to remove all the stop words from my list. These are common words that won't be interesting for the analysis.\n",
    "\n",
    "I've downloaded a list of common stop words from github at this address: https://github.com/stopwords-iso/stopwords-en/blob/master/stopwords-en.txt. After reading in the file, the words will be split into their own list. I'll finally add a few extra words I noticed from the text that I want removed."
   ]
  },
  {
   "cell_type": "code",
   "execution_count": 65,
   "metadata": {},
   "outputs": [],
   "source": [
    "f = open('stopwords-en.txt','r')\n",
    "stop_words = f.read()\n",
    "stop_words = stop_words.split('\\n')\n",
    "more_s_words = ['ï','â','chapter']\n",
    "stop_words = stop_words + more_s_words"
   ]
  },
  {
   "cell_type": "markdown",
   "metadata": {},
   "source": [
    "Will my list of stop words, I'll create a final list of the words I'll be using to analyze the book."
   ]
  },
  {
   "cell_type": "code",
   "execution_count": 66,
   "metadata": {},
   "outputs": [],
   "source": [
    "md_words = []\n",
    "\n",
    "for i in book_words:\n",
    "    if i not in stop_words:\n",
    "        md_words.append(i)"
   ]
  },
  {
   "cell_type": "markdown",
   "metadata": {},
   "source": [
    "With this final list completed, I can count the occurance of each word of the book with the module Counter. This will output a Collections.counter object that I can treat as a dictionary and use to create a pandas dataframe."
   ]
  },
  {
   "cell_type": "code",
   "execution_count": 69,
   "metadata": {},
   "outputs": [],
   "source": [
    "md_counts = Counter(md_words)"
   ]
  },
  {
   "cell_type": "code",
   "execution_count": 70,
   "metadata": {},
   "outputs": [],
   "source": [
    "md_df = pd.DataFrame.from_dict(md_counts, orient='index').reset_index()"
   ]
  },
  {
   "cell_type": "code",
   "execution_count": 71,
   "metadata": {},
   "outputs": [],
   "source": [
    "md_df = md_df.rename(columns={'index':'word',0:'count'})"
   ]
  },
  {
   "cell_type": "code",
   "execution_count": 72,
   "metadata": {},
   "outputs": [],
   "source": [
    "md_df = md_df.sort_values('count',ascending=False)"
   ]
  },
  {
   "cell_type": "markdown",
   "metadata": {},
   "source": [
    "With my dataframe created and organized the amount a word was used, I can easily create a visualization to solve the question of the most common word in Moby Dick. "
   ]
  },
  {
   "cell_type": "code",
   "execution_count": 75,
   "metadata": {},
   "outputs": [
    {
     "data": {
      "text/plain": [
       "<AxesSubplot:xlabel='word', ylabel='count'>"
      ]
     },
     "execution_count": 75,
     "metadata": {},
     "output_type": "execute_result"
    },
    {
     "data": {
      "image/png": "[encoded data removed]",
      "text/plain": [
       "<Figure size 1296x432 with 1 Axes>"
      ]
     },
     "metadata": {},
     "output_type": "display_data"
    }
   ],
   "source": [
    "plt.figure(figsize=(18,6))\n",
    "\n",
    "sns.lineplot(data=md_df.head(20),x='word',y='count')"
   ]
  },
  {
   "cell_type": "markdown",
   "metadata": {},
   "source": [
    "With the visualization built from my dataframe, we can see that 'whale' is the most common word in Moby Dick by more than double any other word."
   ]
  }
 ],
 "metadata": {
  "kernelspec": {
   "display_name": "Python 3",
   "language": "python",
   "name": "python3"
  },
  "language_info": {
   "codemirror_mode": {
    "name": "ipython",
    "version": 3
   },
   "file_extension": ".py",
   "mimetype": "text/x-python",
   "name": "python",
   "nbconvert_exporter": "python",
   "pygments_lexer": "ipython3",
   "version": "3.7.6"
  }
 },
 "nbformat": 4,
 "nbformat_minor": 4
}
